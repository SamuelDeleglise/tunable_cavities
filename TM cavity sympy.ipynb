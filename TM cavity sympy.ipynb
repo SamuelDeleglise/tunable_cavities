{
 "cells": [
  {
   "cell_type": "code",
   "execution_count": 2,
   "metadata": {},
   "outputs": [],
   "source": [
    "import sympy as sp\n",
    "import numpy as np\n",
    "from IPython.display import display\n",
    "import functools as ft\n",
    "import operator as op\n",
    "import matplotlib.pyplot as plt"
   ]
  },
  {
   "cell_type": "code",
   "execution_count": 3,
   "metadata": {},
   "outputs": [],
   "source": [
    "def og_r_t(T):\n",
    "    return np.sqrt(1-T), np.sqrt(T)\n",
    "\n",
    "def r_t(n):\n",
    "    return \"r%d t%d\"%(n,n)\n",
    "\n",
    "def mirror(sym): #Input: One string with the names of the r and t variables. Ex: 'r1 t1'\n",
    "    r, t=sp.symbols(sym)    \n",
    "    return sp.Matrix([[-1,r],[-r,r**2+t**2]])*(sp.I/t)\n",
    "\n",
    "def space(sym): #Input: String with names of variables k and L. Ex: 'k L1'\n",
    "    k, L=sp.symbols(sym)\n",
    "    return sp.Matrix([[sp.exp(sp.I*k*L),0],[0,sp.exp(-sp.I*k*L)]])\n",
    "\n",
    "def cav_matrix(cav_num):\n",
    "    cavity=ft.reduce(op.mul,[mirror(r_t(i//2)) if i%2==0 else space('k L%d'%(i//2)) for i in range(2,2*cav_num+3)])\n",
    "    return sp.simplify(cavity)"
   ]
  },
  {
   "cell_type": "markdown",
   "metadata": {},
   "source": [
    "# TM cavity"
   ]
  },
  {
   "cell_type": "code",
   "execution_count": 4,
   "metadata": {
    "scrolled": false
   },
   "outputs": [
    {
     "data": {
      "text/latex": [
       "$\\displaystyle \\left[\\begin{matrix}\\frac{i \\left(r_{3} \\left(r_{1} \\left(r_{2}^{2} + t_{2}^{2}\\right) - r_{2} e^{2 i L_{1} k}\\right) e^{i L_{1} k} - \\left(r_{1} r_{2} - e^{2 i L_{1} k}\\right) e^{i k \\left(L_{1} + 2 L_{2}\\right)}\\right) e^{- i k \\left(2 L_{1} + L_{2}\\right)}}{t_{1} t_{2} t_{3}} & \\frac{i \\left(r_{3} \\left(r_{1} r_{2} - e^{2 i L_{1} k}\\right) e^{i k \\left(L_{1} + 2 L_{2}\\right)} - \\left(r_{3}^{2} + t_{3}^{2}\\right) \\left(r_{1} \\left(r_{2}^{2} + t_{2}^{2}\\right) - r_{2} e^{2 i L_{1} k}\\right) e^{i L_{1} k}\\right) e^{- i k \\left(2 L_{1} + L_{2}\\right)}}{t_{1} t_{2} t_{3}}\\\\\\frac{i \\left(- r_{3} \\left(r_{1} r_{2} e^{2 i L_{1} k} - \\left(r_{1}^{2} + t_{1}^{2}\\right) \\left(r_{2}^{2} + t_{2}^{2}\\right)\\right) e^{i L_{1} k} + \\left(r_{1} e^{2 i L_{1} k} - r_{2} \\left(r_{1}^{2} + t_{1}^{2}\\right)\\right) e^{i k \\left(L_{1} + 2 L_{2}\\right)}\\right) e^{- i k \\left(2 L_{1} + L_{2}\\right)}}{t_{1} t_{2} t_{3}} & \\frac{i \\left(- r_{3} \\left(r_{1} e^{2 i L_{1} k} - r_{2} \\left(r_{1}^{2} + t_{1}^{2}\\right)\\right) e^{i k \\left(L_{1} + 2 L_{2}\\right)} + \\left(r_{3}^{2} + t_{3}^{2}\\right) \\left(r_{1} r_{2} e^{2 i L_{1} k} - \\left(r_{1}^{2} + t_{1}^{2}\\right) \\left(r_{2}^{2} + t_{2}^{2}\\right)\\right) e^{i L_{1} k}\\right) e^{- i k \\left(2 L_{1} + L_{2}\\right)}}{t_{1} t_{2} t_{3}}\\end{matrix}\\right]$"
      ],
      "text/plain": [
       "Matrix([\n",
       "[                                 I*(r3*(r1*(r2**2 + t2**2) - r2*exp(2*I*L1*k))*exp(I*L1*k) - (r1*r2 - exp(2*I*L1*k))*exp(I*k*(L1 + 2*L2)))*exp(-I*k*(2*L1 + L2))/(t1*t2*t3),                                  I*(r3*(r1*r2 - exp(2*I*L1*k))*exp(I*k*(L1 + 2*L2)) - (r3**2 + t3**2)*(r1*(r2**2 + t2**2) - r2*exp(2*I*L1*k))*exp(I*L1*k))*exp(-I*k*(2*L1 + L2))/(t1*t2*t3)],\n",
       "[I*(-r3*(r1*r2*exp(2*I*L1*k) - (r1**2 + t1**2)*(r2**2 + t2**2))*exp(I*L1*k) + (r1*exp(2*I*L1*k) - r2*(r1**2 + t1**2))*exp(I*k*(L1 + 2*L2)))*exp(-I*k*(2*L1 + L2))/(t1*t2*t3), I*(-r3*(r1*exp(2*I*L1*k) - r2*(r1**2 + t1**2))*exp(I*k*(L1 + 2*L2)) + (r3**2 + t3**2)*(r1*r2*exp(2*I*L1*k) - (r1**2 + t1**2)*(r2**2 + t2**2))*exp(I*L1*k))*exp(-I*k*(2*L1 + L2))/(t1*t2*t3)]])"
      ]
     },
     "metadata": {},
     "output_type": "display_data"
    }
   ],
   "source": [
    "#Three mirror cavity matrix\n",
    "tm=cav_matrix(2)\n",
    "display(tm)"
   ]
  },
  {
   "cell_type": "markdown",
   "metadata": {},
   "source": [
    "### TM cavity approximation starting from the transmission function directly. "
   ]
  },
  {
   "cell_type": "code",
   "execution_count": 38,
   "metadata": {},
   "outputs": [
    {
     "data": {
      "text/latex": [
       "$\\displaystyle \\frac{i \\left(r_{3} \\left(r_{1} \\left(r_{2}^{2} + t_{2}^{2}\\right) - r_{2} e^{\\frac{2 i L_{1} \\left(\\Omega + \\omega\\right)}{c}}\\right) e^{\\frac{i L_{1} \\left(\\Omega + \\omega\\right)}{c}} - \\left(r_{1} r_{2} - e^{\\frac{2 i L_{1} \\left(\\Omega + \\omega\\right)}{c}}\\right) e^{\\frac{i \\left(L_{1} + 2 L_{2}\\right) \\left(\\Omega + \\omega\\right)}{c}}\\right) e^{- \\frac{i \\left(2 L_{1} + L_{2}\\right) \\left(\\Omega + \\omega\\right)}{c}}}{t_{1} t_{2} t_{3}}$"
      ],
      "text/plain": [
       "I*(r3*(r1*(r2**2 + t2**2) - r2*exp(2*I*L1*(\\Omega + \\omega)/c))*exp(I*L1*(\\Omega + \\omega)/c) - (r1*r2 - exp(2*I*L1*(\\Omega + \\omega)/c))*exp(I*(L1 + 2*L2)*(\\Omega + \\omega)/c))*exp(-I*(2*L1 + L2)*(\\Omega + \\omega)/c)/(t1*t2*t3)"
      ]
     },
     "metadata": {},
     "output_type": "display_data"
    }
   ],
   "source": [
    "#Defining the angular frequency as w=\\omega + \\Omega and doing the first approximation\n",
    "w, W, c, L1=sp.symbols('\\omega \\Omega c L1')\n",
    "TFA=tm[0,0].subs('k',(w+W)/c) #TFA=Transmission Function Aproximation\n",
    "display(TFA)"
   ]
  },
  {
   "cell_type": "code",
   "execution_count": 39,
   "metadata": {
    "scrolled": true
   },
   "outputs": [
    {
     "data": {
      "text/latex": [
       "$\\displaystyle \\frac{i \\left(r_{1} r_{2}^{2} r_{3} - r_{1} r_{2} e^{\\frac{2 i L_{2} \\left(\\Omega + \\omega\\right)}{c}} + r_{1} r_{3} t_{2}^{2} - r_{2} r_{3} e^{\\frac{2 i L_{1} \\omega}{c}} + e^{\\frac{2 i \\left(L_{1} \\omega + L_{2} \\Omega + L_{2} \\omega\\right)}{c}}\\right) e^{- \\frac{i \\left(L_{1} \\omega + L_{2} \\Omega + L_{2} \\omega\\right)}{c}}}{t_{1} t_{2} t_{3}}$"
      ],
      "text/plain": [
       "I*(r1*r2**2*r3 - r1*r2*exp(2*I*L2*(\\Omega + \\omega)/c) + r1*r3*t2**2 - r2*r3*exp(2*I*L1*\\omega/c) + exp(2*I*(L1*\\omega + L2*\\Omega + L2*\\omega)/c))*exp(-I*(L1*\\omega + L2*\\Omega + L2*\\omega)/c)/(t1*t2*t3)"
      ]
     },
     "metadata": {},
     "output_type": "display_data"
    }
   ],
   "source": [
    "TFA=sp.simplify(sp.expand(TFA).subs(L1*W,0)) #from this recognize the FP transmission function\n",
    "display(TFA) "
   ]
  },
  {
   "cell_type": "markdown",
   "metadata": {},
   "source": [
    "### TM cavity approximation with the effective mirror"
   ]
  },
  {
   "cell_type": "code",
   "execution_count": 48,
   "metadata": {},
   "outputs": [
    {
     "data": {
      "text/latex": [
       "$\\displaystyle 0$"
      ],
      "text/plain": [
       "0"
      ]
     },
     "metadata": {},
     "output_type": "display_data"
    },
    {
     "data": {
      "text/latex": [
       "$\\displaystyle \\frac{i \\left(r_{3} \\left(r_{1} \\left(r_{2}^{2} + t_{2}^{2}\\right) - r_{2} e^{\\frac{2 i L_{1} \\omega}{c}}\\right) e^{\\frac{i L_{1} \\omega}{c}} - \\left(r_{1} r_{2} - e^{\\frac{2 i L_{1} \\omega}{c}}\\right) e^{\\frac{i \\left(L_{1} \\omega + 2 L_{2} \\left(\\Omega + \\omega\\right)\\right)}{c}}\\right) e^{- \\frac{i \\left(2 L_{1} \\omega + L_{2} \\left(\\Omega + \\omega\\right)\\right)}{c}}}{t_{1} t_{2} t_{3}}$"
      ],
      "text/plain": [
       "I*(r3*(r1*(r2**2 + t2**2) - r2*exp(2*I*L1*\\omega/c))*exp(I*L1*\\omega/c) - (r1*r2 - exp(2*I*L1*\\omega/c))*exp(I*(L1*\\omega + 2*L2*(\\Omega + \\omega))/c))*exp(-I*(2*L1*\\omega + L2*(\\Omega + \\omega))/c)/(t1*t2*t3)"
      ]
     },
     "metadata": {},
     "output_type": "display_data"
    }
   ],
   "source": [
    "fp=cav_matrix(1)\n",
    "fp_eff=fp.subs('k',w/c) #fp cavity as an effective mirror with the approximation. \n",
    "space2=space('k L2').subs('k', (w+W)/c) #space matrix between mirror 2 and 3 with the w=\\omega + \\Omega\n",
    "mirror3=mirror('r3 t3') #mirror 3 matrix\n",
    "#display(fp_eff), \n",
    "#display(space2) \n",
    "#display(mirror3)\n",
    "tm_eff=fp_eff*space2*mirror3 #the tm cavity with the effective mirror approximation\n",
    "TFA_eff=sp.simplify(tm_eff[0,0])\n",
    "diff=sp.simplify(TFA-TFA_eff) #difference between the previous approximation and this one. \n",
    "display(diff) \n",
    "display(TFA_eff)"
   ]
  },
  {
   "cell_type": "markdown",
   "metadata": {},
   "source": [
    "# TM transmission and refelctivity functions plots"
   ]
  },
  {
   "cell_type": "code",
   "execution_count": 50,
   "metadata": {},
   "outputs": [
    {
     "data": {
      "text/plain": [
       "[<matplotlib.lines.Line2D at 0x171a9585fd0>]"
      ]
     },
     "execution_count": 50,
     "metadata": {},
     "output_type": "execute_result"
    },
    {
     "data": {
      "image/png": "[encoded data removed]",
      "text/plain": [
       "<Figure size 432x288 with 1 Axes>"
      ]
     },
     "metadata": {
      "needs_background": "light"
     },
     "output_type": "display_data"
    }
   ],
   "source": [
    "T_func=sp.lambdify(['k','L1, L2', 'r1', 'r2', 'r3', 't1', 't2', 't3'], abs(1/tm[0,0])**2, modules=['numpy'])\n",
    "R_func=sp.lambdify(['k','L1, L2', 'r1', 'r2', 'r3', 't1', 't2', 't3'], abs(tm[1,0]/tm[0,0])**2, modules=['numpy'])\n",
    "T_eff=sp.lambdify([w, W,'L1, L2', 'r1', 'r2', 'r3', 't1', 't2', 't3'], abs(TFA_eff)**2, modules=['numpy'])\n",
    "freq=np.arange(1.2,1.3,0.0001)\n",
    "r, t=lambda x: np.sqrt(1-x**2), lambda x: np.sqrt(x)\n",
    "ts=[t(0.02), t(0.02), t(0.02)]\n",
    "rs=[r(ts[0]), r(ts[1]), r(ts[2])]  \n",
    "plt.plot(freq,T_func(freq, 0.05, 5, *rs, *ts))\n",
    "plt.plot(freq,R_func(freq, 0.05, 5, *rs, *ts))\n",
    "#plt.plot(freq, T_eff(freq, W))"
   ]
  },
  {
   "cell_type": "code",
   "execution_count": null,
   "metadata": {},
   "outputs": [],
   "source": []
  }
 ],
 "metadata": {
  "kernelspec": {
   "display_name": "Python 3",
   "language": "python",
   "name": "python3"
  },
  "language_info": {
   "codemirror_mode": {
    "name": "ipython",
    "version": 3
   },
   "file_extension": ".py",
   "mimetype": "text/x-python",
   "name": "python",
   "nbconvert_exporter": "python",
   "pygments_lexer": "ipython3",
   "version": "3.8.5"
  }
 },
 "nbformat": 4,
 "nbformat_minor": 4
}
